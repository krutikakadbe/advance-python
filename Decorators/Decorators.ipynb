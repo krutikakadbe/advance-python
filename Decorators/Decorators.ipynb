{
 "cells": [
  {
   "cell_type": "markdown",
   "metadata": {},
   "source": [
    "# Keyword Arguments in python"
   ]
  },
  {
   "cell_type": "markdown",
   "metadata": {},
   "source": [
    "1. **kwargs\n",
    "2. kwargs acts like a dictionary \n",
    "3. ** is used for dictionary\n",
    "4. *is used for list \n"
   ]
  },
  {
   "cell_type": "code",
   "execution_count": 1,
   "metadata": {},
   "outputs": [
    {
     "data": {
      "text/plain": [
       "dict"
      ]
     },
     "execution_count": 1,
     "metadata": {},
     "output_type": "execute_result"
    }
   ],
   "source": [
    "d = {\"name\": \"Krtika\", \"age\": 24, \"married\": False}\n",
    "type(d)"
   ]
  },
  {
   "cell_type": "code",
   "execution_count": 2,
   "metadata": {},
   "outputs": [
    {
     "data": {
      "text/plain": [
       "{'name': 'Krtika', 'age': 24, 'married': False}"
      ]
     },
     "execution_count": 2,
     "metadata": {},
     "output_type": "execute_result"
    }
   ],
   "source": [
    "d"
   ]
  },
  {
   "cell_type": "code",
   "execution_count": 3,
   "metadata": {},
   "outputs": [
    {
     "data": {
      "text/plain": [
       "dict_keys(['name', 'age', 'married'])"
      ]
     },
     "execution_count": 3,
     "metadata": {},
     "output_type": "execute_result"
    }
   ],
   "source": [
    "d.keys()"
   ]
  },
  {
   "cell_type": "code",
   "execution_count": 4,
   "metadata": {},
   "outputs": [
    {
     "data": {
      "text/plain": [
       "dict_items([('name', 'Krtika'), ('age', 24), ('married', False)])"
      ]
     },
     "execution_count": 4,
     "metadata": {},
     "output_type": "execute_result"
    }
   ],
   "source": [
    "d.items()"
   ]
  },
  {
   "cell_type": "code",
   "execution_count": 9,
   "metadata": {},
   "outputs": [],
   "source": [
    "def function(**kwargs):\n",
    "    print(kwargs)\n",
    "    print(type(kwargs))\n",
    "    for key, value in kwargs.items():\n",
    "        print(f\"{key}: {value}\")"
   ]
  },
  {
   "cell_type": "code",
   "execution_count": 10,
   "metadata": {},
   "outputs": [
    {
     "name": "stdout",
     "output_type": "stream",
     "text": [
      "{'name': 'Krutika', 'age': 24}\n",
      "<class 'dict'>\n",
      "name: Krutika\n",
      "age: 24\n"
     ]
    }
   ],
   "source": [
    "function(name= \"Krutika\", age= 24)"
   ]
  },
  {
   "cell_type": "code",
   "execution_count": 11,
   "metadata": {},
   "outputs": [
    {
     "name": "stdout",
     "output_type": "stream",
     "text": [
      "{'name': 'Krutika', 'age': 24, 'email': 'kadbekrutika@gmail.com', 'graduated': True}\n",
      "<class 'dict'>\n",
      "name: Krutika\n",
      "age: 24\n",
      "email: kadbekrutika@gmail.com\n",
      "graduated: True\n"
     ]
    }
   ],
   "source": [
    "function(name= \"Krutika\", age= 24, email= \"kadbekrutika@gmail.com\", graduated= True)"
   ]
  },
  {
   "cell_type": "code",
   "execution_count": 12,
   "metadata": {},
   "outputs": [
    {
     "data": {
      "text/plain": [
       "{'name': 'Krtika', 'age': 24, 'married': False}"
      ]
     },
     "execution_count": 12,
     "metadata": {},
     "output_type": "execute_result"
    }
   ],
   "source": [
    "d"
   ]
  },
  {
   "cell_type": "code",
   "execution_count": 13,
   "metadata": {},
   "outputs": [
    {
     "name": "stdout",
     "output_type": "stream",
     "text": [
      "{'name': 'Krtika', 'age': 24, 'married': False}\n",
      "<class 'dict'>\n",
      "name: Krtika\n",
      "age: 24\n",
      "married: False\n"
     ]
    }
   ],
   "source": [
    "function(**d)"
   ]
  },
  {
   "cell_type": "markdown",
   "metadata": {},
   "source": [
    "## Practical example for kwargs"
   ]
  },
  {
   "cell_type": "markdown",
   "metadata": {},
   "source": [
    "### Perform billing for a restaurent , provided the menu including taxes"
   ]
  },
  {
   "cell_type": "code",
   "execution_count": 14,
   "metadata": {},
   "outputs": [],
   "source": [
    "menu = {\"burger\": 150, \"pizza\":250, \"sandwich\":270, \"pasta\": 300, \"coffee\":50}"
   ]
  },
  {
   "cell_type": "code",
   "execution_count": 15,
   "metadata": {},
   "outputs": [
    {
     "data": {
      "text/plain": [
       "250"
      ]
     },
     "execution_count": 15,
     "metadata": {},
     "output_type": "execute_result"
    }
   ],
   "source": [
    "menu.get(\"pizza\")"
   ]
  },
  {
   "cell_type": "code",
   "execution_count": 17,
   "metadata": {},
   "outputs": [
    {
     "data": {
      "text/plain": [
       "50"
      ]
     },
     "execution_count": 17,
     "metadata": {},
     "output_type": "execute_result"
    }
   ],
   "source": [
    "a = menu.get(\"coffee\")\n",
    "a"
   ]
  },
  {
   "cell_type": "code",
   "execution_count": 22,
   "metadata": {},
   "outputs": [],
   "source": [
    "a1 = menu.get(\"chai\")\n",
    "a1"
   ]
  },
  {
   "cell_type": "code",
   "execution_count": 23,
   "metadata": {},
   "outputs": [
    {
     "name": "stdout",
     "output_type": "stream",
     "text": [
      "None\n"
     ]
    }
   ],
   "source": [
    "print(a1)"
   ]
  },
  {
   "cell_type": "code",
   "execution_count": 24,
   "metadata": {},
   "outputs": [
    {
     "data": {
      "text/plain": [
       "dict_items([('burger', 150), ('pizza', 250), ('sandwich', 270), ('pasta', 300), ('coffee', 50)])"
      ]
     },
     "execution_count": 24,
     "metadata": {},
     "output_type": "execute_result"
    }
   ],
   "source": [
    "menu.items()"
   ]
  },
  {
   "cell_type": "code",
   "execution_count": 33,
   "metadata": {},
   "outputs": [],
   "source": [
    "def hotel_billing(**kwargs):\n",
    "    bill = 0 \n",
    "    for food, qty in kwargs.items():\n",
    "        price= menu.get(food)\n",
    "        if price is not None:\n",
    "            amt = price * qty\n",
    "            bill = bill + amt \n",
    "            print(f\"Food Item : {food}, price : {price:.2f} INR, Qty: {qty},subtotal: {amt:.2f}\")\n",
    "    print(f\"Total billing amount is :{bill:.2f} INR\")\n",
    "    return bill"
   ]
  },
  {
   "cell_type": "code",
   "execution_count": 32,
   "metadata": {},
   "outputs": [
    {
     "name": "stdout",
     "output_type": "stream",
     "text": [
      "Food Item : sandwich, price : 270.00 INR, Qty: 2,subtotal: 540.00\n",
      "Food Item : burger, price : 150.00 INR, Qty: 1,subtotal: 150.00\n",
      "Total billing amount is :690.00 INR\n"
     ]
    }
   ],
   "source": [
    "b1 = hotel_billing(sandwich = 2, burger = 1)"
   ]
  },
  {
   "cell_type": "code",
   "execution_count": 34,
   "metadata": {},
   "outputs": [
    {
     "data": {
      "text/plain": [
       "690"
      ]
     },
     "execution_count": 34,
     "metadata": {},
     "output_type": "execute_result"
    }
   ],
   "source": [
    "b1"
   ]
  },
  {
   "cell_type": "code",
   "execution_count": 36,
   "metadata": {},
   "outputs": [
    {
     "name": "stdout",
     "output_type": "stream",
     "text": [
      "Food Item : pizza, price : 250.00 INR, Qty: 4,subtotal: 1000.00\n",
      "Food Item : sandwich, price : 270.00 INR, Qty: 2,subtotal: 540.00\n",
      "Food Item : coffee, price : 50.00 INR, Qty: 6,subtotal: 300.00\n",
      "Total billing amount is :1840.00 INR\n"
     ]
    }
   ],
   "source": [
    "b2 = hotel_billing(pizza=4, sandwich=2, coffee=6)"
   ]
  },
  {
   "cell_type": "code",
   "execution_count": 37,
   "metadata": {},
   "outputs": [],
   "source": [
    "table3 = {\"pasta\": 3, \"sandwich\": 2, \"burger\": 1}"
   ]
  },
  {
   "cell_type": "code",
   "execution_count": 38,
   "metadata": {},
   "outputs": [
    {
     "name": "stdout",
     "output_type": "stream",
     "text": [
      "Food Item : pasta, price : 300.00 INR, Qty: 3,subtotal: 900.00\n",
      "Food Item : sandwich, price : 270.00 INR, Qty: 2,subtotal: 540.00\n",
      "Food Item : burger, price : 150.00 INR, Qty: 1,subtotal: 150.00\n",
      "Total billing amount is :1590.00 INR\n"
     ]
    },
    {
     "data": {
      "text/plain": [
       "1590"
      ]
     },
     "execution_count": 38,
     "metadata": {},
     "output_type": "execute_result"
    }
   ],
   "source": [
    "hotel_billing(**table3)"
   ]
  },
  {
   "attachments": {
    "image.png": {
     "image/png": "[encoded data removed]"
    }
   },
   "cell_type": "markdown",
   "metadata": {},
   "source": [
    "## Decorators\n",
    "\n",
    "1. Any functions is input to a decorator\n",
    "2. Output is a function - wrapper\n",
    "3. Purpose of decorator is to modify a function\n",
    "\n",
    "![image.png](attachment:image.png)"
   ]
  },
  {
   "cell_type": "code",
   "execution_count": null,
   "metadata": {},
   "outputs": [],
   "source": []
  }
 ],
 "metadata": {
  "kernelspec": {
   "display_name": "venv",
   "language": "python",
   "name": "python3"
  },
  "language_info": {
   "codemirror_mode": {
    "name": "ipython",
    "version": 3
   },
   "file_extension": ".py",
   "mimetype": "text/x-python",
   "name": "python",
   "nbconvert_exporter": "python",
   "pygments_lexer": "ipython3",
   "version": "3.12.7"
  }
 },
 "nbformat": 4,
 "nbformat_minor": 2
}
